{
 "cells": [
  {
   "cell_type": "code",
   "execution_count": 1,
   "metadata": {},
   "outputs": [
    {
     "name": "stderr",
     "output_type": "stream",
     "text": [
      "/home/bumjin/anaconda3/envs/deeping/lib/python3.8/site-packages/tqdm/auto.py:22: TqdmWarning: IProgress not found. Please update jupyter and ipywidgets. See https://ipywidgets.readthedocs.io/en/stable/user_install.html\n",
      "  from .autonotebook import tqdm as notebook_tqdm\n"
     ]
    }
   ],
   "source": [
    "import torchvision \n",
    "import torchvision.models as models\n",
    "from xai_cnn.wrappers import ActivationHookWrapper\n",
    "googlenet = models.googlenet(pretrained=True)\n",
    "vgg16 = models.vgg16(pretrained=True)"
   ]
  },
  {
   "cell_type": "code",
   "execution_count": 2,
   "metadata": {},
   "outputs": [],
   "source": [
    "googlenet_wrapper = ActivationHookWrapper(googlenet, named_list=['inception4a', 'inception3a'], class_names=['Conv2d', 'ReLU'])\n",
    "vgg16_wrapper = ActivationHookWrapper(vgg16, named_list=['features'], class_names=['Conv2d', 'ReLU'])"
   ]
  },
  {
   "cell_type": "code",
   "execution_count": 3,
   "metadata": {},
   "outputs": [
    {
     "name": "stdout",
     "output_type": "stream",
     "text": [
      "dict_keys(['Inception', 'Sequential'])\n",
      "-----------------------\n",
      "Inception\n",
      "torch.Size([256, 28, 28])\n",
      "torch.Size([512, 14, 14])\n",
      "-----------------------\n",
      "Sequential\n"
     ]
    },
    {
     "name": "stderr",
     "output_type": "stream",
     "text": [
      "/home/bumjin/anaconda3/envs/deeping/lib/python3.8/site-packages/torch/nn/functional.py:780: UserWarning: Note that order of the arguments: ceil_mode and return_indices will changeto match the args list in nn.MaxPool2d in a future release.\n",
      "  warnings.warn(\"Note that order of the arguments: ceil_mode and return_indices will change\"\n"
     ]
    }
   ],
   "source": [
    "import torch \n",
    "image = torch.rand(3,224,224)\n",
    "_ = googlenet_wrapper.forward_with_register(image)\n",
    "print(googlenet_wrapper.tensors_named.keys())\n",
    "for k in googlenet_wrapper.tensors_named:\n",
    "    print(\"-----------------------\")\n",
    "    print(k)\n",
    "    for v in googlenet_wrapper.tensors_named[k]:\n",
    "        print(v[1].size())"
   ]
  },
  {
   "cell_type": "code",
   "execution_count": 4,
   "metadata": {},
   "outputs": [
    {
     "name": "stdout",
     "output_type": "stream",
     "text": [
      "dict_keys(['Conv2d', 'ReLU'])\n",
      "-----------------------\n",
      "Conv2d\n",
      "torch.Size([1, 3, 224, 224])\n",
      "torch.Size([1, 64, 56, 56])\n",
      "torch.Size([1, 64, 56, 56])\n",
      "torch.Size([1, 192, 28, 28])\n",
      "torch.Size([1, 192, 28, 28])\n",
      "torch.Size([1, 96, 28, 28])\n",
      "torch.Size([1, 192, 28, 28])\n",
      "torch.Size([1, 16, 28, 28])\n",
      "torch.Size([1, 192, 28, 28])\n",
      "torch.Size([1, 256, 28, 28])\n",
      "torch.Size([1, 256, 28, 28])\n",
      "torch.Size([1, 128, 28, 28])\n",
      "torch.Size([1, 256, 28, 28])\n",
      "torch.Size([1, 32, 28, 28])\n",
      "torch.Size([1, 256, 28, 28])\n",
      "torch.Size([1, 480, 14, 14])\n",
      "torch.Size([1, 480, 14, 14])\n",
      "torch.Size([1, 96, 14, 14])\n",
      "torch.Size([1, 480, 14, 14])\n",
      "torch.Size([1, 16, 14, 14])\n",
      "torch.Size([1, 480, 14, 14])\n",
      "torch.Size([1, 512, 14, 14])\n",
      "torch.Size([1, 512, 14, 14])\n",
      "torch.Size([1, 112, 14, 14])\n",
      "torch.Size([1, 512, 14, 14])\n",
      "torch.Size([1, 24, 14, 14])\n",
      "torch.Size([1, 512, 14, 14])\n",
      "torch.Size([1, 512, 14, 14])\n",
      "torch.Size([1, 512, 14, 14])\n",
      "torch.Size([1, 128, 14, 14])\n",
      "torch.Size([1, 512, 14, 14])\n",
      "torch.Size([1, 24, 14, 14])\n",
      "torch.Size([1, 512, 14, 14])\n",
      "torch.Size([1, 512, 14, 14])\n",
      "torch.Size([1, 512, 14, 14])\n",
      "torch.Size([1, 144, 14, 14])\n",
      "torch.Size([1, 512, 14, 14])\n",
      "torch.Size([1, 32, 14, 14])\n",
      "torch.Size([1, 512, 14, 14])\n",
      "torch.Size([1, 528, 14, 14])\n",
      "torch.Size([1, 528, 14, 14])\n",
      "torch.Size([1, 160, 14, 14])\n",
      "torch.Size([1, 528, 14, 14])\n",
      "torch.Size([1, 32, 14, 14])\n",
      "torch.Size([1, 528, 14, 14])\n",
      "torch.Size([1, 832, 7, 7])\n",
      "torch.Size([1, 832, 7, 7])\n",
      "torch.Size([1, 160, 7, 7])\n",
      "torch.Size([1, 832, 7, 7])\n",
      "torch.Size([1, 32, 7, 7])\n",
      "torch.Size([1, 832, 7, 7])\n",
      "torch.Size([1, 832, 7, 7])\n",
      "torch.Size([1, 832, 7, 7])\n",
      "torch.Size([1, 192, 7, 7])\n",
      "torch.Size([1, 832, 7, 7])\n",
      "torch.Size([1, 48, 7, 7])\n",
      "torch.Size([1, 832, 7, 7])\n",
      "-----------------------\n",
      "ReLU\n"
     ]
    }
   ],
   "source": [
    "print(googlenet_wrapper.tensors_class.keys())\n",
    "for k in googlenet_wrapper.tensors_class:\n",
    "    print(\"-----------------------\")\n",
    "    print(k)\n",
    "    for v in googlenet_wrapper.tensors_class[k]:\n",
    "        print(v[0].size())"
   ]
  },
  {
   "cell_type": "code",
   "execution_count": null,
   "metadata": {},
   "outputs": [],
   "source": []
  }
 ],
 "metadata": {
  "kernelspec": {
   "display_name": "Python 3.8.12 ('deeping')",
   "language": "python",
   "name": "python3"
  },
  "language_info": {
   "codemirror_mode": {
    "name": "ipython",
    "version": 3
   },
   "file_extension": ".py",
   "mimetype": "text/x-python",
   "name": "python",
   "nbconvert_exporter": "python",
   "pygments_lexer": "ipython3",
   "version": "3.8.12"
  },
  "orig_nbformat": 4,
  "vscode": {
   "interpreter": {
    "hash": "cbc4c7136b33e244a0926e55a8aa1e57f1c839903e331a380cefab98f3f0f979"
   }
  }
 },
 "nbformat": 4,
 "nbformat_minor": 2
}
